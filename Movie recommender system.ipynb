{
 "cells": [
  {
   "cell_type": "markdown",
   "metadata": {},
   "source": [
    "# MOVIE RECOMMENDER SYSTEMS using COLLABORATIVE FILTERING "
   ]
  },
  {
   "cell_type": "markdown",
   "metadata": {},
   "source": [
    "## 1. Importing the libraries "
   ]
  },
  {
   "cell_type": "code",
   "execution_count": 1,
   "metadata": {},
   "outputs": [],
   "source": [
    "import pandas as pd\n",
    "import numpy as np\n",
    "import seaborn as sns\n",
    "import matplotlib.pyplot as plt"
   ]
  },
  {
   "cell_type": "code",
   "execution_count": 2,
   "metadata": {},
   "outputs": [],
   "source": [
    "from surprise import Reader,Dataset,SVD\n",
    "from surprise.accuracy import rmse,mae\n",
    "from surprise.model_selection import cross_validate"
   ]
  },
  {
   "cell_type": "markdown",
   "metadata": {},
   "source": [
    "## 2. Importing the data"
   ]
  },
  {
   "cell_type": "code",
   "execution_count": 3,
   "metadata": {},
   "outputs": [
    {
     "data": {
      "text/html": [
       "<div>\n",
       "<style scoped>\n",
       "    .dataframe tbody tr th:only-of-type {\n",
       "        vertical-align: middle;\n",
       "    }\n",
       "\n",
       "    .dataframe tbody tr th {\n",
       "        vertical-align: top;\n",
       "    }\n",
       "\n",
       "    .dataframe thead th {\n",
       "        text-align: right;\n",
       "    }\n",
       "</style>\n",
       "<table border=\"1\" class=\"dataframe\">\n",
       "  <thead>\n",
       "    <tr style=\"text-align: right;\">\n",
       "      <th></th>\n",
       "      <th>userId</th>\n",
       "      <th>movieId</th>\n",
       "      <th>rating</th>\n",
       "      <th>timestamp</th>\n",
       "    </tr>\n",
       "  </thead>\n",
       "  <tbody>\n",
       "    <tr>\n",
       "      <th>0</th>\n",
       "      <td>1</td>\n",
       "      <td>1</td>\n",
       "      <td>4.0</td>\n",
       "      <td>964982703</td>\n",
       "    </tr>\n",
       "    <tr>\n",
       "      <th>1</th>\n",
       "      <td>1</td>\n",
       "      <td>3</td>\n",
       "      <td>4.0</td>\n",
       "      <td>964981247</td>\n",
       "    </tr>\n",
       "    <tr>\n",
       "      <th>2</th>\n",
       "      <td>1</td>\n",
       "      <td>6</td>\n",
       "      <td>4.0</td>\n",
       "      <td>964982224</td>\n",
       "    </tr>\n",
       "    <tr>\n",
       "      <th>3</th>\n",
       "      <td>1</td>\n",
       "      <td>47</td>\n",
       "      <td>5.0</td>\n",
       "      <td>964983815</td>\n",
       "    </tr>\n",
       "    <tr>\n",
       "      <th>4</th>\n",
       "      <td>1</td>\n",
       "      <td>50</td>\n",
       "      <td>5.0</td>\n",
       "      <td>964982931</td>\n",
       "    </tr>\n",
       "  </tbody>\n",
       "</table>\n",
       "</div>"
      ],
      "text/plain": [
       "   userId  movieId  rating  timestamp\n",
       "0       1        1     4.0  964982703\n",
       "1       1        3     4.0  964981247\n",
       "2       1        6     4.0  964982224\n",
       "3       1       47     5.0  964983815\n",
       "4       1       50     5.0  964982931"
      ]
     },
     "execution_count": 3,
     "metadata": {},
     "output_type": "execute_result"
    }
   ],
   "source": [
    "\n",
    "df=pd.read_csv(\"ratings.csv\")\n",
    "df.head()"
   ]
  },
  {
   "cell_type": "markdown",
   "metadata": {},
   "source": [
    "### Dropping the timestamp column in the dataframe"
   ]
  },
  {
   "cell_type": "code",
   "execution_count": 4,
   "metadata": {},
   "outputs": [],
   "source": [
    "df.drop('timestamp',axis=1,inplace=True)"
   ]
  },
  {
   "cell_type": "code",
   "execution_count": 5,
   "metadata": {},
   "outputs": [
    {
     "data": {
      "text/html": [
       "<div>\n",
       "<style scoped>\n",
       "    .dataframe tbody tr th:only-of-type {\n",
       "        vertical-align: middle;\n",
       "    }\n",
       "\n",
       "    .dataframe tbody tr th {\n",
       "        vertical-align: top;\n",
       "    }\n",
       "\n",
       "    .dataframe thead th {\n",
       "        text-align: right;\n",
       "    }\n",
       "</style>\n",
       "<table border=\"1\" class=\"dataframe\">\n",
       "  <thead>\n",
       "    <tr style=\"text-align: right;\">\n",
       "      <th></th>\n",
       "      <th>userId</th>\n",
       "      <th>movieId</th>\n",
       "      <th>rating</th>\n",
       "    </tr>\n",
       "  </thead>\n",
       "  <tbody>\n",
       "    <tr>\n",
       "      <th>0</th>\n",
       "      <td>1</td>\n",
       "      <td>1</td>\n",
       "      <td>4.0</td>\n",
       "    </tr>\n",
       "    <tr>\n",
       "      <th>1</th>\n",
       "      <td>1</td>\n",
       "      <td>3</td>\n",
       "      <td>4.0</td>\n",
       "    </tr>\n",
       "    <tr>\n",
       "      <th>2</th>\n",
       "      <td>1</td>\n",
       "      <td>6</td>\n",
       "      <td>4.0</td>\n",
       "    </tr>\n",
       "    <tr>\n",
       "      <th>3</th>\n",
       "      <td>1</td>\n",
       "      <td>47</td>\n",
       "      <td>5.0</td>\n",
       "    </tr>\n",
       "    <tr>\n",
       "      <th>4</th>\n",
       "      <td>1</td>\n",
       "      <td>50</td>\n",
       "      <td>5.0</td>\n",
       "    </tr>\n",
       "  </tbody>\n",
       "</table>\n",
       "</div>"
      ],
      "text/plain": [
       "   userId  movieId  rating\n",
       "0       1        1     4.0\n",
       "1       1        3     4.0\n",
       "2       1        6     4.0\n",
       "3       1       47     5.0\n",
       "4       1       50     5.0"
      ]
     },
     "execution_count": 5,
     "metadata": {},
     "output_type": "execute_result"
    }
   ],
   "source": [
    "df.head()"
   ]
  },
  {
   "cell_type": "markdown",
   "metadata": {},
   "source": [
    "# 3.Checking for missing values"
   ]
  },
  {
   "cell_type": "code",
   "execution_count": 6,
   "metadata": {},
   "outputs": [
    {
     "data": {
      "text/plain": [
       "userId     0\n",
       "movieId    0\n",
       "rating     0\n",
       "dtype: int64"
      ]
     },
     "execution_count": 6,
     "metadata": {},
     "output_type": "execute_result"
    }
   ],
   "source": [
    "df.isna().sum()"
   ]
  },
  {
   "cell_type": "markdown",
   "metadata": {},
   "source": [
    "It seems that there is no missing values in the dataset.So its better to dive deep into Exploratory Data Analysis(EDA)."
   ]
  },
  {
   "cell_type": "markdown",
   "metadata": {},
   "source": [
    "# 4. Exploratory Data Analysis"
   ]
  },
  {
   "cell_type": "markdown",
   "metadata": {},
   "source": [
    "##  4.1 Number of movies/Number of users "
   ]
  },
  {
   "cell_type": "code",
   "execution_count": 7,
   "metadata": {},
   "outputs": [],
   "source": [
    "u_movies=df['movieId'].nunique()\n",
    "u_users=df['userId'].nunique()"
   ]
  },
  {
   "cell_type": "code",
   "execution_count": 8,
   "metadata": {},
   "outputs": [
    {
     "name": "stdout",
     "output_type": "stream",
     "text": [
      "Number of unique movies:9724\n",
      "Number of unique movies:610\n"
     ]
    }
   ],
   "source": [
    "print(f\"Number of unique movies:{u_movies}\")\n",
    "print(f\"Number of unique movies:{u_users}\")\n"
   ]
  },
  {
   "cell_type": "code",
   "execution_count": 9,
   "metadata": {},
   "outputs": [],
   "source": [
    "d=df.groupby('userId')['movieId'].count()"
   ]
  },
  {
   "cell_type": "code",
   "execution_count": 10,
   "metadata": {},
   "outputs": [
    {
     "data": {
      "text/plain": [
       "<BarContainer object of 610 artists>"
      ]
     },
     "execution_count": 10,
     "metadata": {},
     "output_type": "execute_result"
    },
    {
     "data": {
      "image/png": "[encoded data removed]",
      "text/plain": [
       "<Figure size 432x288 with 1 Axes>"
      ]
     },
     "metadata": {
      "needs_background": "light"
     },
     "output_type": "display_data"
    }
   ],
   "source": [
    "plt.bar(d.index,d.values,color='magenta')"
   ]
  },
  {
   "cell_type": "markdown",
   "metadata": {},
   "source": [
    "This plot shows that a large portion of users having movieIds between 100 and 200 did not have a movieId corresponding to them."
   ]
  },
  {
   "cell_type": "markdown",
   "metadata": {},
   "source": [
    "## 4.2 Sparsity of ratings"
   ]
  },
  {
   "cell_type": "markdown",
   "metadata": {},
   "source": [
    "Sparsity%=(No of missing values/total values)*100"
   ]
  },
  {
   "cell_type": "code",
   "execution_count": 11,
   "metadata": {},
   "outputs": [
    {
     "name": "stdout",
     "output_type": "stream",
     "text": [
      "Sparsity = 98.30003169443864\n"
     ]
    }
   ],
   "source": [
    "available_ratings=df['rating'].count()\n",
    "total=u_movies*u_users\n",
    "missingratings=total-available_ratings\n",
    "sparsity=(missingratings/total)*100\n",
    "print('Sparsity =',sparsity)"
   ]
  },
  {
   "cell_type": "markdown",
   "metadata": {},
   "source": [
    "## 4.3 Rating Distributions"
   ]
  },
  {
   "cell_type": "code",
   "execution_count": 12,
   "metadata": {},
   "outputs": [
    {
     "data": {
      "text/plain": [
       "<BarContainer object of 10 artists>"
      ]
     },
     "execution_count": 12,
     "metadata": {},
     "output_type": "execute_result"
    },
    {
     "data": {
      "image/png": "[encoded data removed]",
      "text/plain": [
       "<Figure size 432x288 with 1 Axes>"
      ]
     },
     "metadata": {
      "needs_background": "light"
     },
     "output_type": "display_data"
    }
   ],
   "source": [
    "plt.bar(df['rating'].value_counts().index,df['rating'].value_counts())"
   ]
  },
  {
   "cell_type": "markdown",
   "metadata": {},
   "source": [
    "# 5.Dimensionality Reduction"
   ]
  },
  {
   "cell_type": "markdown",
   "metadata": {},
   "source": [
    "### 5.1 Filter movies with less than 3 ratings "
   ]
  },
  {
   "cell_type": "code",
   "execution_count": 13,
   "metadata": {},
   "outputs": [],
   "source": [
    "filter_movies=df['movieId'].value_counts()>3\n",
    "filter_movies=filter_movies[filter_movies].index.tolist()"
   ]
  },
  {
   "cell_type": "code",
   "execution_count": 14,
   "metadata": {},
   "outputs": [],
   "source": [
    "filter_users=df['userId'].value_counts()>3\n",
    "filter_users=filter_users[filter_users].index.tolist()"
   ]
  },
  {
   "cell_type": "code",
   "execution_count": 15,
   "metadata": {},
   "outputs": [],
   "source": [
    "df=df[(df['movieId'].isin(filter_movies))&(df['userId'].isin(filter_users))]"
   ]
  },
  {
   "cell_type": "code",
   "execution_count": 16,
   "metadata": {},
   "outputs": [
    {
     "data": {
      "text/plain": [
       "(92394, 3)"
      ]
     },
     "execution_count": 16,
     "metadata": {},
     "output_type": "execute_result"
    }
   ],
   "source": [
    "df.shape"
   ]
  },
  {
   "cell_type": "markdown",
   "metadata": {},
   "source": [
    "## 6. Create Train and Test set"
   ]
  },
  {
   "cell_type": "markdown",
   "metadata": {},
   "source": [
    "### 6.1 Columns used for training"
   ]
  },
  {
   "cell_type": "code",
   "execution_count": 25,
   "metadata": {},
   "outputs": [],
   "source": [
    "cols=['userId','movieId','rating']"
   ]
  },
  {
   "cell_type": "markdown",
   "metadata": {},
   "source": [
    "### 6.2 Create surprise dataset"
   ]
  },
  {
   "cell_type": "code",
   "execution_count": 24,
   "metadata": {},
   "outputs": [],
   "source": [
    "reader=Reader(rating_scale=(0.5,5))\n",
    "data=Dataset.load_from_df(df[cols],reader)"
   ]
  },
  {
   "cell_type": "markdown",
   "metadata": {},
   "source": [
    "### 6.3 Create train-set and prediction-set"
   ]
  },
  {
   "cell_type": "code",
   "execution_count": 26,
   "metadata": {},
   "outputs": [],
   "source": [
    "trainset=data.build_full_trainset()\n",
    "antiset=trainset.build_anti_testset()"
   ]
  },
  {
   "cell_type": "markdown",
   "metadata": {},
   "source": [
    "# 7. Creating and training model"
   ]
  },
  {
   "cell_type": "markdown",
   "metadata": {},
   "source": [
    "## 7.1 Creating the model"
   ]
  },
  {
   "cell_type": "markdown",
   "metadata": {},
   "source": [
    "SVD(Singular value decomposition)"
   ]
  },
  {
   "cell_type": "markdown",
   "metadata": {},
   "source": [
    "Interaction matrix=AXBXC"
   ]
  },
  {
   "cell_type": "code",
   "execution_count": 27,
   "metadata": {},
   "outputs": [],
   "source": [
    "algo=SVD(n_epochs=25,verbose=True)"
   ]
  },
  {
   "cell_type": "markdown",
   "metadata": {},
   "source": [
    "## 7.2 Training the model "
   ]
  },
  {
   "cell_type": "markdown",
   "metadata": {},
   "source": [
    "Mean Absolute Error(MAE):MAE measures the average magnitude of the errors in a set of predictions,without considering their direction."
   ]
  },
  {
   "cell_type": "markdown",
   "metadata": {},
   "source": [
    "Root mean absolute error(RMSE):RMSE is the square root of the average of the squared differences between prediction and actual observation."
   ]
  },
  {
   "cell_type": "code",
   "execution_count": 29,
   "metadata": {},
   "outputs": [
    {
     "name": "stdout",
     "output_type": "stream",
     "text": [
      "Processing epoch 0\n",
      "Processing epoch 1\n",
      "Processing epoch 2\n",
      "Processing epoch 3\n",
      "Processing epoch 4\n",
      "Processing epoch 5\n",
      "Processing epoch 6\n",
      "Processing epoch 7\n",
      "Processing epoch 8\n",
      "Processing epoch 9\n",
      "Processing epoch 10\n",
      "Processing epoch 11\n",
      "Processing epoch 12\n",
      "Processing epoch 13\n",
      "Processing epoch 14\n",
      "Processing epoch 15\n",
      "Processing epoch 16\n",
      "Processing epoch 17\n",
      "Processing epoch 18\n",
      "Processing epoch 19\n",
      "Processing epoch 20\n",
      "Processing epoch 21\n",
      "Processing epoch 22\n",
      "Processing epoch 23\n",
      "Processing epoch 24\n",
      "Processing epoch 0\n",
      "Processing epoch 1\n",
      "Processing epoch 2\n",
      "Processing epoch 3\n",
      "Processing epoch 4\n",
      "Processing epoch 5\n",
      "Processing epoch 6\n",
      "Processing epoch 7\n",
      "Processing epoch 8\n",
      "Processing epoch 9\n",
      "Processing epoch 10\n",
      "Processing epoch 11\n",
      "Processing epoch 12\n",
      "Processing epoch 13\n",
      "Processing epoch 14\n",
      "Processing epoch 15\n",
      "Processing epoch 16\n",
      "Processing epoch 17\n",
      "Processing epoch 18\n",
      "Processing epoch 19\n",
      "Processing epoch 20\n",
      "Processing epoch 21\n",
      "Processing epoch 22\n",
      "Processing epoch 23\n",
      "Processing epoch 24\n",
      "Processing epoch 0\n",
      "Processing epoch 1\n",
      "Processing epoch 2\n",
      "Processing epoch 3\n",
      "Processing epoch 4\n",
      "Processing epoch 5\n",
      "Processing epoch 6\n",
      "Processing epoch 7\n",
      "Processing epoch 8\n",
      "Processing epoch 9\n",
      "Processing epoch 10\n",
      "Processing epoch 11\n",
      "Processing epoch 12\n",
      "Processing epoch 13\n",
      "Processing epoch 14\n",
      "Processing epoch 15\n",
      "Processing epoch 16\n",
      "Processing epoch 17\n",
      "Processing epoch 18\n",
      "Processing epoch 19\n",
      "Processing epoch 20\n",
      "Processing epoch 21\n",
      "Processing epoch 22\n",
      "Processing epoch 23\n",
      "Processing epoch 24\n",
      "Processing epoch 0\n",
      "Processing epoch 1\n",
      "Processing epoch 2\n",
      "Processing epoch 3\n",
      "Processing epoch 4\n",
      "Processing epoch 5\n",
      "Processing epoch 6\n",
      "Processing epoch 7\n",
      "Processing epoch 8\n",
      "Processing epoch 9\n",
      "Processing epoch 10\n",
      "Processing epoch 11\n",
      "Processing epoch 12\n",
      "Processing epoch 13\n",
      "Processing epoch 14\n",
      "Processing epoch 15\n",
      "Processing epoch 16\n",
      "Processing epoch 17\n",
      "Processing epoch 18\n",
      "Processing epoch 19\n",
      "Processing epoch 20\n",
      "Processing epoch 21\n",
      "Processing epoch 22\n",
      "Processing epoch 23\n",
      "Processing epoch 24\n",
      "Processing epoch 0\n",
      "Processing epoch 1\n",
      "Processing epoch 2\n",
      "Processing epoch 3\n",
      "Processing epoch 4\n",
      "Processing epoch 5\n",
      "Processing epoch 6\n",
      "Processing epoch 7\n",
      "Processing epoch 8\n",
      "Processing epoch 9\n",
      "Processing epoch 10\n",
      "Processing epoch 11\n",
      "Processing epoch 12\n",
      "Processing epoch 13\n",
      "Processing epoch 14\n",
      "Processing epoch 15\n",
      "Processing epoch 16\n",
      "Processing epoch 17\n",
      "Processing epoch 18\n",
      "Processing epoch 19\n",
      "Processing epoch 20\n",
      "Processing epoch 21\n",
      "Processing epoch 22\n",
      "Processing epoch 23\n",
      "Processing epoch 24\n",
      "Evaluating RMSE, MAE of algorithm SVD on 5 split(s).\n",
      "\n",
      "                  Fold 1  Fold 2  Fold 3  Fold 4  Fold 5  Mean    Std     \n",
      "RMSE (testset)    0.8624  0.8634  0.8576  0.8622  0.8580  0.8607  0.0024  \n",
      "MAE (testset)     0.6636  0.6640  0.6546  0.6605  0.6569  0.6599  0.0037  \n",
      "Fit time          4.08    4.08    4.14    4.11    4.11    4.10    0.02    \n",
      "Test time         0.28    0.09    0.09    0.09    0.10    0.13    0.07    \n",
      ">>training done\n"
     ]
    }
   ],
   "source": [
    "cross_validate(algo,data,measures=['RMSE','MAE'],cv=5,verbose=True)\n",
    "print(\">>training done\")"
   ]
  },
  {
   "cell_type": "markdown",
   "metadata": {},
   "source": [
    "# 8.Making predictions based on the model"
   ]
  },
  {
   "cell_type": "markdown",
   "metadata": {},
   "source": [
    "## 8.1 Making predictions for all pairs (users,items) that are not in training set "
   ]
  },
  {
   "cell_type": "code",
   "execution_count": 36,
   "metadata": {},
   "outputs": [],
   "source": [
    "predictions=algo.test(antiset)"
   ]
  },
  {
   "cell_type": "code",
   "execution_count": 43,
   "metadata": {},
   "outputs": [
    {
     "data": {
      "text/plain": [
       "Prediction(uid=1, iid=1704, r_ui=3.529119856267723, est=4.675818638269028, details={'was_impossible': False})"
      ]
     },
     "execution_count": 43,
     "metadata": {},
     "output_type": "execute_result"
    }
   ],
   "source": [
    "predictions[1]"
   ]
  },
  {
   "cell_type": "markdown",
   "metadata": {},
   "source": [
    "## 8.2 Recommending top 3 movies based on predictions "
   ]
  },
  {
   "cell_type": "code",
   "execution_count": 47,
   "metadata": {},
   "outputs": [
    {
     "name": "stdout",
     "output_type": "stream",
     "text": [
      "1 [318, 1272, 912]\n",
      "2 [4226, 7361, 2571]\n",
      "3 [6016, 177593, 3683]\n",
      "4 [356, 318, 1954]\n",
      "5 [1136, 2997, 246]\n",
      "6 [1704, 4973, 1246]\n",
      "7 [2959, 1178, 2115]\n",
      "8 [3275, 4973, 1089]\n",
      "9 [750, 1234, 933]\n",
      "10 [919, 951, 1225]\n",
      "11 [1234, 1250, 912]\n",
      "12 [47, 110, 1206]\n",
      "13 [527, 318, 1196]\n",
      "14 [1172, 1223, 1266]\n",
      "15 [1411, 1221, 1945]\n",
      "16 [1237, 1172, 908]\n",
      "17 [2324, 1250, 7361]\n",
      "18 [912, 1225, 1250]\n",
      "19 [296, 1036, 4973]\n",
      "20 [858, 3949, 260]\n",
      "21 [5971, 86345, 3200]\n",
      "22 [1248, 1214, 1250]\n",
      "23 [1172, 1223, 6016]\n",
      "24 [908, 1207, 1217]\n",
      "25 [296, 608, 1196]\n",
      "26 [2959, 318, 858]\n",
      "27 [1104, 899, 457]\n",
      "28 [4973, 916, 105504]\n",
      "29 [110, 912, 4226]\n",
      "30 [904, 1225, 2019]\n",
      "31 [2324, 3275, 50]\n",
      "32 [750, 1172, 60069]\n",
      "33 [2959, 55820, 47]\n",
      "34 [7361, 1252, 1219]\n",
      "35 [1225, 4973, 58559]\n",
      "36 [356, 110, 858]\n",
      "37 [908, 1250, 3578]\n",
      "38 [1221, 260, 1196]\n",
      "39 [2959, 4973, 16]\n",
      "40 [750, 1250, 2959]\n",
      "41 [55721, 1188, 1278]\n",
      "42 [29, 1204, 5952]\n",
      "43 [50, 333, 441]\n",
      "44 [318, 50, 593]\n",
      "45 [912, 750, 4995]\n",
      "46 [246, 1089, 2571]\n",
      "47 [1213, 58559, 1276]\n",
      "48 [898, 1089, 858]\n",
      "49 [2959, 260, 908]\n",
      "50 [7153, 913, 2858]\n",
      "51 [296, 2019, 750]\n",
      "52 [50, 1089, 2329]\n",
      "53 [1, 6, 50]\n",
      "54 [106782, 1203, 1208]\n",
      "55 [318, 2959, 1208]\n",
      "56 [2959, 750, 1291]\n",
      "57 [1178, 2959, 7361]\n",
      "58 [260, 1204, 3147]\n",
      "59 [318, 48516, 1204]\n",
      "60 [7153, 1228, 4993]\n",
      "61 [2959, 1237, 858]\n",
      "62 [1411, 1213, 50]\n",
      "63 [3347, 1197, 162]\n",
      "64 [1201, 1237, 2160]\n",
      "65 [1276, 1250, 912]\n",
      "66 [750, 1204, 1208]\n",
      "67 [750, 1945, 1250]\n",
      "68 [2732, 954, 2160]\n",
      "69 [1225, 1250, 1228]\n",
      "70 [1225, 260, 1198]\n",
      "71 [318, 1276, 1248]\n",
      "72 [2067, 2959, 246]\n",
      "73 [1214, 2762, 926]\n",
      "74 [4993, 356, 318]\n",
      "75 [92259, 1225, 318]\n",
      "76 [16, 3451, 1215]\n",
      "77 [318, 898, 356]\n",
      "78 [1217, 1267, 57669]\n",
      "79 [3037, 5952, 1237]\n",
      "80 [260, 1250, 4973]\n",
      "81 [2571, 1223, 2019]\n",
      "82 [1411, 57504, 48516]\n",
      "83 [50, 1228, 92259]\n",
      "84 [750, 56782, 58559]\n",
      "85 [318, 260, 1234]\n",
      "86 [1203, 1223, 74458]\n",
      "87 [356, 1172, 1204]\n",
      "88 [260, 908, 2959]\n",
      "89 [908, 1299, 1208]\n",
      "90 [318, 1223, 1250]\n",
      "91 [55820, 6377, 7361]\n",
      "92 [50, 1250, 1248]\n",
      "93 [954, 1089, 1197]\n",
      "94 [4973, 1178, 1]\n",
      "95 [296, 593, 2959]\n",
      "96 [1250, 593, 1197]\n",
      "97 [1213, 2959, 318]\n",
      "98 [56782, 4878, 750]\n",
      "99 [106782, 1262, 2959]\n",
      "100 [58559, 1223, 475]\n",
      "101 [858, 1221, 1215]\n",
      "102 [858, 2571, 898]\n",
      "103 [541, 1104, 1080]\n",
      "104 [4995, 1197, 1172]\n",
      "105 [898, 908, 246]\n",
      "106 [356, 2329, 1225]\n",
      "107 [904, 1104, 912]\n",
      "108 [912, 1250, 3200]\n",
      "109 [1267, 1213, 750]\n",
      "110 [750, 1197, 356]\n",
      "111 [1213, 475, 1203]\n",
      "112 [318, 1197, 1252]\n",
      "113 [296, 7153, 1213]\n",
      "114 [318, 1411, 356]\n",
      "115 [3949, 74458, 608]\n",
      "116 [2324, 1215, 5816]\n",
      "117 [1204, 750, 1193]\n",
      "118 [2571, 1089, 750]\n",
      "119 [1178, 1197, 4973]\n",
      "120 [1197, 1276, 142488]\n",
      "121 [1228, 1266, 1225]\n",
      "122 [110, 1198, 1617]\n",
      "123 [1208, 6350, 50]\n",
      "124 [912, 58559, 1250]\n",
      "125 [1217, 1250, 913]\n",
      "126 [1197, 912, 1262]\n",
      "127 [318, 1221, 1213]\n",
      "128 [318, 1213, 356]\n",
      "129 [898, 4144, 1252]\n",
      "130 [1250, 1223, 898]\n",
      "131 [926, 3037, 56782]\n",
      "132 [1278, 750, 142488]\n",
      "133 [1223, 1178, 1250]\n",
      "134 [858, 1213, 954]\n",
      "135 [1148, 1250, 1104]\n",
      "136 [5952, 111, 1237]\n",
      "137 [741, 168252, 96821]\n",
      "138 [1204, 904, 1237]\n",
      "139 [4973, 1213, 4226]\n",
      "140 [1172, 4973, 922]\n",
      "141 [56782, 908, 1104]\n",
      "142 [2324, 1203, 1225]\n",
      "143 [4993, 6350, 31658]\n",
      "144 [922, 3451, 1172]\n",
      "145 [858, 1704, 1411]\n",
      "146 [527, 2959, 1104]\n",
      "147 [1299, 50, 1242]\n",
      "148 [6350, 1250, 318]\n",
      "149 [110, 318, 2959]\n",
      "150 [1250, 1198, 1196]\n",
      "151 [2571, 750, 1272]\n",
      "152 [1222, 1248, 122926]\n",
      "153 [1148, 1035, 3910]\n",
      "154 [1196, 898, 1250]\n",
      "155 [1217, 318, 50]\n",
      "156 [1258, 1214, 6016]\n",
      "157 [318, 858, 7153]\n",
      "158 [1172, 593, 142488]\n",
      "159 [778, 1210, 1172]\n",
      "160 [529, 17, 30707]\n",
      "161 [912, 898, 593]\n",
      "162 [1222, 858, 3504]\n",
      "163 [1250, 318, 50]\n",
      "164 [50, 260, 296]\n",
      "165 [1104, 1237, 4973]\n",
      "166 [898, 1199, 57669]\n",
      "167 [58559, 7361, 2571]\n",
      "168 [318, 904, 1719]\n",
      "169 [1213, 1199, 1250]\n",
      "170 [260, 1172, 1225]\n",
      "171 [50, 110, 1206]\n",
      "172 [260, 1172, 318]\n",
      "173 [4878, 4973, 246]\n",
      "174 [898, 1246, 1188]\n",
      "175 [356, 260, 1196]\n",
      "176 [778, 3275, 1248]\n",
      "177 [2324, 4973, 4226]\n",
      "178 [922, 2324, 3451]\n",
      "179 [1262, 1217, 1213]\n",
      "180 [1193, 318, 110]\n",
      "181 [2329, 246, 1234]\n",
      "182 [1223, 922, 6104]\n",
      "183 [1237, 1250, 1204]\n",
      "184 [1213, 904, 908]\n",
      "185 [4973, 318, 1197]\n",
      "186 [318, 1250, 910]\n",
      "187 [6016, 56782, 51255]\n",
      "188 [50, 260, 296]\n",
      "189 [858, 904, 1172]\n",
      "190 [246, 1213, 1276]\n",
      "191 [260, 2959, 2571]\n",
      "192 [908, 122916, 1276]\n",
      "193 [2324, 1217, 1204]\n",
      "194 [1172, 1197, 527]\n",
      "195 [1235, 1198, 3499]\n",
      "196 [246, 1262, 2329]\n",
      "197 [1237, 750, 2959]\n",
      "198 [3671, 63082, 104879]\n",
      "199 [2959, 2019, 1248]\n",
      "200 [3275, 142488, 48516]\n",
      "201 [1250, 1104, 910]\n",
      "202 [4226, 1225, 2324]\n",
      "203 [50, 1225, 260]\n",
      "204 [912, 318, 3681]\n",
      "205 [1196, 318, 48516]\n",
      "206 [750, 1225, 6016]\n",
      "207 [2571, 7361, 1197]\n",
      "208 [4973, 7361, 1248]\n",
      "209 [858, 7361, 50]\n",
      "210 [318, 1172, 3504]\n",
      "211 [908, 1204, 912]\n",
      "212 [912, 246, 904]\n",
      "213 [356, 318, 2959]\n",
      "214 [260, 318, 750]\n",
      "215 [1178, 1223, 116897]\n",
      "216 [858, 1213, 60069]\n",
      "217 [898, 527, 1217]\n",
      "218 [2959, 318, 1237]\n",
      "219 [1208, 1178, 1252]\n",
      "220 [750, 1103, 593]\n",
      "221 [1237, 293, 1217]\n",
      "222 [1217, 750, 1272]\n",
      "223 [105504, 356, 96821]\n",
      "224 [1104, 7361, 908]\n",
      "225 [318, 1228, 3468]\n",
      "226 [2019, 318, 1213]\n",
      "227 [3275, 2324, 3468]\n",
      "228 [908, 1250, 1172]\n",
      "229 [2019, 1250, 4973]\n",
      "230 [2160, 898, 2318]\n",
      "231 [1217, 318, 1250]\n",
      "232 [1234, 116897, 3200]\n",
      "233 [1104, 1217, 1178]\n",
      "234 [296, 3949, 750]\n",
      "235 [858, 2571, 750]\n",
      "236 [3275, 589, 2571]\n",
      "237 [750, 2959, 858]\n",
      "238 [1252, 750, 1954]\n",
      "239 [57669, 68157, 2160]\n",
      "240 [1641, 1267, 1276]\n",
      "241 [1207, 1148, 1104]\n",
      "242 [750, 1198, 858]\n",
      "243 [2019, 2324, 3429]\n",
      "244 [3037, 106920, 6016]\n",
      "245 [2324, 1196, 1172]\n",
      "246 [1291, 908, 1259]\n",
      "247 [4973, 1104, 1222]\n",
      "248 [1217, 750, 296]\n",
      "249 [1252, 1223, 3508]\n",
      "250 [260, 296, 527]\n",
      "251 [260, 912, 1148]\n",
      "252 [48516, 7361, 778]\n",
      "253 [910, 898, 4226]\n",
      "254 [750, 912, 1213]\n",
      "255 [2571, 2959, 50]\n",
      "256 [356, 1704, 1262]\n",
      "257 [527, 1172, 1196]\n",
      "258 [50, 260, 1237]\n",
      "259 [2324, 3578, 1172]\n",
      "260 [912, 1204, 1213]\n",
      "261 [4973, 1234, 1197]\n",
      "262 [750, 4973, 1199]\n",
      "263 [750, 1207, 1272]\n",
      "264 [1248, 318, 1089]\n",
      "265 [1197, 2324, 1178]\n",
      "266 [4993, 858, 2858]\n",
      "267 [4226, 1387, 4306]\n",
      "268 [96821, 1233, 318]\n",
      "269 [110, 1223, 1248]\n",
      "270 [318, 910, 1089]\n",
      "271 [296, 858, 2959]\n",
      "272 [4226, 48516, 106100]\n",
      "273 [2959, 2329, 4226]\n",
      "274 [1248, 1250, 177593]\n",
      "275 [457, 898, 96821]\n",
      "276 [47, 50, 110]\n",
      "277 [318, 2959, 48516]\n",
      "278 [2959, 1213, 3275]\n",
      "279 [1217, 3424, 1041]\n",
      "280 [593, 4226, 750]\n",
      "281 [4993, 318, 356]\n",
      "282 [7361, 1223, 1217]\n",
      "283 [858, 1276, 1267]\n",
      "284 [2959, 7361, 922]\n",
      "285 [2959, 2019, 7361]\n",
      "286 [2324, 3468, 908]\n",
      "287 [260, 912, 541]\n",
      "288 [858, 1221, 1273]\n",
      "289 [1213, 1197, 1193]\n",
      "290 [1197, 1172, 6016]\n",
      "291 [1250, 2324, 1197]\n",
      "292 [1172, 1262, 81834]\n",
      "293 [1252, 904, 1234]\n",
      "294 [4973, 4878, 1265]\n",
      "295 [593, 260, 2571]\n",
      "296 [750, 1215, 48516]\n",
      "297 [2959, 4993, 858]\n",
      "298 [1199, 923, 2028]\n",
      "299 [318, 4973, 50]\n",
      "300 [1219, 898, 50]\n",
      "301 [260, 1196, 5952]\n",
      "302 [1250, 2571, 1193]\n",
      "303 [858, 60069, 1266]\n",
      "304 [2324, 1237, 50]\n",
      "305 [912, 1228, 3468]\n",
      "306 [27611, 1235, 1172]\n",
      "307 [3730, 1276, 4973]\n",
      "308 [8874, 910, 2700]\n",
      "309 [1208, 858, 951]\n",
      "310 [953, 908, 44555]\n",
      "311 [1248, 318, 1234]\n",
      "312 [858, 741, 1250]\n",
      "313 [7361, 68157, 111]\n",
      "314 [908, 1228, 1411]\n",
      "315 [1411, 1237, 898]\n",
      "316 [105504, 3275, 2959]\n",
      "317 [1210, 1206, 2160]\n",
      "318 [1104, 1248, 1217]\n",
      "319 [1250, 750, 4011]\n",
      "320 [527, 750, 1248]\n",
      "321 [318, 898, 1262]\n",
      "322 [1104, 44195, 2019]\n",
      "323 [858, 1704, 3451]\n",
      "324 [50, 296, 318]\n",
      "325 [2571, 6377, 1221]\n",
      "326 [1267, 1233, 4306]\n",
      "327 [4993, 1217, 55247]\n",
      "328 [6874, 1250, 1217]\n",
      "329 [1217, 3814, 2324]\n",
      "330 [1221, 5618, 56782]\n",
      "331 [541, 260, 1193]\n",
      "332 [741, 1252, 1250]\n",
      "333 [6016, 1250, 318]\n",
      "334 [1172, 3275, 741]\n",
      "335 [1207, 1411, 4973]\n",
      "336 [1223, 4226, 5618]\n",
      "337 [356, 1213, 58559]\n",
      "338 [1193, 260, 1197]\n",
      "339 [3552, 1172, 50]\n",
      "340 [2959, 1248, 1204]\n",
      "341 [2324, 750, 318]\n",
      "342 [318, 3147, 260]\n",
      "343 [1172, 2019, 608]\n",
      "344 [903, 1172, 1104]\n",
      "345 [1267, 1276, 1952]\n",
      "346 [1250, 908, 3424]\n",
      "347 [1411, 1172, 4973]\n",
      "348 [110, 1089, 1198]\n",
      "349 [2324, 1223, 4226]\n",
      "350 [898, 2324, 318]\n",
      "351 [1172, 912, 1225]\n",
      "352 [858, 2019, 750]\n",
      "353 [858, 2959, 2571]\n",
      "354 [1197, 177593, 6016]\n",
      "355 [750, 1172, 1223]\n",
      "356 [1201, 148626, 858]\n",
      "357 [750, 1237, 1193]\n",
      "358 [750, 1148, 908]\n",
      "359 [356, 750, 1276]\n",
      "360 [246, 142488, 910]\n",
      "361 [1208, 1217, 3275]\n",
      "362 [951, 750, 1223]\n",
      "363 [1204, 1215, 7361]\n",
      "364 [4226, 527, 318]\n",
      "365 [1237, 6350, 3504]\n",
      "366 [898, 50, 750]\n",
      "367 [3275, 1276, 1237]\n",
      "368 [4993, 318, 46578]\n",
      "369 [48516, 750, 177593]\n",
      "370 [3275, 106100, 3147]\n",
      "371 [6, 50, 110]\n",
      "372 [2959, 54503, 79132]\n",
      "373 [260, 106100, 1172]\n",
      "374 [541, 2324, 858]\n",
      "375 [48516, 750, 58559]\n",
      "376 [926, 105504, 1035]\n",
      "377 [858, 908, 1213]\n",
      "378 [1248, 56782, 2571]\n",
      "379 [1148, 908, 1104]\n",
      "380 [106782, 1245, 741]\n",
      "381 [527, 105504, 858]\n",
      "382 [1089, 922, 4973]\n",
      "383 [527, 318, 296]\n",
      "384 [47, 318, 293]\n",
      "385 [527, 4011, 2959]\n",
      "386 [2324, 858, 1199]\n",
      "387 [68157, 177593, 914]\n",
      "388 [2324, 1250, 1617]\n",
      "389 [1213, 3275, 898]\n",
      "390 [750, 2019, 296]\n",
      "391 [6016, 951, 27773]\n",
      "392 [1208, 2959, 1196]\n",
      "393 [1172, 4306, 55167]\n",
      "394 [2959, 2324, 318]\n",
      "395 [858, 1248, 912]\n",
      "396 [7361, 1248, 356]\n",
      "397 [6711, 318, 1228]\n",
      "398 [2571, 908, 1204]\n",
      "399 [2019, 4226, 1252]\n",
      "400 [6016, 2324, 1172]\n",
      "401 [858, 1213, 110]\n",
      "402 [110, 260, 318]\n",
      "403 [858, 4226, 1221]\n",
      "404 [1213, 2324, 1237]\n",
      "405 [1178, 5971, 1207]\n",
      "406 [1213, 1411, 105504]\n",
      "407 [318, 541, 2858]\n",
      "408 [7361, 898, 4973]\n",
      "409 [1262, 58559, 105504]\n",
      "410 [2324, 3275, 1278]\n",
      "411 [1208, 1136, 6711]\n",
      "412 [741, 1247, 3508]\n",
      "413 [1276, 778, 142488]\n",
      "414 [2924, 74458, 246]\n",
      "415 [4993, 1222, 541]\n",
      "416 [1258, 6016, 1193]\n",
      "417 [1252, 1199, 1250]\n",
      "418 [750, 2019, 1258]\n",
      "419 [1252, 1248, 4993]\n",
      "420 [246, 912, 3451]\n",
      "421 [356, 750, 1198]\n",
      "422 [4226, 2571, 48516]\n",
      "423 [1198, 898, 1276]\n",
      "424 [527, 2318, 260]\n",
      "425 [16, 2318, 58559]\n",
      "426 [1411, 1103, 2791]\n",
      "427 [1204, 1250, 2019]\n",
      "428 [56782, 4262, 109374]\n",
      "429 [110, 1208, 2329]\n",
      "430 [1198, 1196, 7153]\n",
      "431 [1213, 318, 296]\n",
      "432 [2324, 1207, 1584]\n",
      "433 [750, 1248, 1217]\n",
      "434 [2019, 50, 1080]\n",
      "435 [4973, 356, 3468]\n",
      "436 [1262, 3468, 3147]\n",
      "437 [2959, 1089, 1080]\n",
      "438 [1198, 89745, 47]\n",
      "439 [58559, 1213, 1193]\n",
      "440 [750, 527, 1204]\n",
      "441 [898, 3508, 1267]\n",
      "442 [96821, 318, 1225]\n",
      "443 [750, 951, 158966]\n",
      "444 [4226, 2324, 1104]\n",
      "445 [858, 4226, 1732]\n",
      "446 [858, 2571, 318]\n",
      "447 [1217, 1203, 908]\n",
      "448 [527, 318, 1732]\n",
      "449 [1250, 48516, 541]\n",
      "450 [2324, 1208, 1272]\n",
      "451 [318, 750, 1250]\n",
      "452 [50, 223, 593]\n",
      "453 [1217, 1178, 2288]\n",
      "454 [908, 4011, 1217]\n",
      "455 [1223, 1262, 1148]\n",
      "456 [1250, 96821, 318]\n",
      "457 [50, 778, 2571]\n",
      "458 [1136, 1172, 1041]\n",
      "459 [1270, 608, 318]\n",
      "460 [922, 1267, 858]\n",
      "461 [1203, 2067, 3468]\n",
      "462 [968, 6016, 1041]\n",
      "463 [260, 1213, 4973]\n",
      "464 [1262, 1208, 1193]\n",
      "465 [318, 858, 1199]\n",
      "466 [750, 246, 1217]\n",
      "467 [318, 1262, 4993]\n",
      "468 [899, 912, 4973]\n",
      "469 [2959, 7153, 60069]\n",
      "470 [1208, 1250, 58559]\n",
      "471 [260, 858, 1196]\n",
      "472 [527, 260, 1225]\n",
      "473 [1213, 1234, 3451]\n",
      "474 [93838, 741, 81834]\n",
      "475 [1197, 1213, 1214]\n",
      "476 [246, 1104, 3275]\n",
      "477 [50, 27773, 4262]\n",
      "478 [750, 2959, 1213]\n",
      "479 [608, 296, 4993]\n",
      "480 [904, 54503, 96829]\n",
      "481 [858, 318, 3037]\n",
      "482 [1250, 858, 1234]\n",
      "483 [924, 1276, 1272]\n",
      "484 [1270, 260, 1262]\n",
      "485 [1178, 1, 908]\n",
      "486 [899, 3000, 1197]\n",
      "487 [4226, 922, 296]\n",
      "488 [1248, 1104, 1210]\n",
      "489 [1303, 858, 318]\n",
      "490 [527, 1196, 1204]\n",
      "491 [2324, 1276, 4848]\n",
      "492 [908, 1225, 1262]\n",
      "493 [2959, 4973, 1136]\n",
      "494 [527, 1213, 2959]\n",
      "495 [1272, 1199, 924]\n",
      "496 [1213, 1228, 48516]\n",
      "497 [1217, 142488, 4848]\n",
      "498 [908, 1704, 527]\n",
      "499 [527, 260, 1221]\n",
      "500 [924, 318, 1193]\n",
      "501 [7371, 2324, 1291]\n",
      "502 [2067, 2959, 47]\n",
      "503 [3201, 260, 1196]\n",
      "504 [750, 50, 2324]\n",
      "505 [750, 1250, 318]\n",
      "506 [1225, 318, 912]\n",
      "507 [318, 2019, 1197]\n",
      "508 [2959, 1250, 260]\n",
      "509 [4226, 7361, 593]\n",
      "510 [56782, 1136, 1217]\n",
      "511 [1225, 3468, 1221]\n",
      "512 [2324, 3451, 68157]\n",
      "513 [1250, 1217, 858]\n",
      "514 [1204, 1208, 1221]\n",
      "515 [1196, 1198, 1208]\n",
      "516 [1204, 858, 1276]\n",
      "517 [2194, 1225, 1303]\n",
      "518 [110, 1248, 3578]\n",
      "519 [750, 56782, 246]\n",
      "520 [1148, 56782, 910]\n",
      "521 [1213, 1172, 1223]\n",
      "522 [104879, 1041, 246]\n",
      "523 [1196, 1197, 1213]\n",
      "524 [1215, 7361, 1953]\n",
      "525 [1223, 1172, 3451]\n",
      "526 [750, 1204, 58559]\n",
      "527 [899, 1221, 1411]\n",
      "528 [318, 912, 92259]\n",
      "529 [858, 1213, 2959]\n",
      "530 [296, 1178, 1250]\n",
      "531 [1249, 1223, 899]\n",
      "532 [1411, 4034, 1952]\n",
      "533 [908, 246, 1221]\n",
      "534 [750, 1035, 1250]\n",
      "535 [50, 1221, 4973]\n",
      "536 [58559, 908, 1237]\n",
      "537 [1248, 1208, 3201]\n",
      "538 [1089, 2959, 318]\n",
      "539 [1204, 1250, 4973]\n",
      "540 [50, 4226, 778]\n",
      "541 [260, 1210, 1198]\n",
      "542 [527, 3897, 4993]\n",
      "543 [593, 954, 2542]\n",
      "544 [58559, 1262, 1104]\n",
      "545 [318, 260, 2571]\n",
      "546 [4011, 908, 1267]\n",
      "547 [318, 2959, 858]\n",
      "548 [2329, 898, 3451]\n",
      "549 [3275, 1215, 112552]\n",
      "550 [1213, 2019, 778]\n",
      "551 [4886, 928, 3275]\n",
      "552 [260, 858, 1198]\n",
      "553 [2324, 110, 1193]\n",
      "554 [5618, 60069, 27611]\n",
      "555 [2700, 951, 1387]\n",
      "556 [912, 2959, 858]\n",
      "557 [356, 6016, 4226]\n",
      "558 [908, 1208, 912]\n",
      "559 [1217, 912, 3730]\n",
      "560 [1213, 750, 1237]\n",
      "561 [858, 750, 1221]\n",
      "562 [105504, 1178, 908]\n",
      "563 [2959, 750, 246]\n",
      "564 [1217, 1250, 48516]\n",
      "565 [1196, 750, 1248]\n",
      "566 [2324, 1172, 1225]\n",
      "567 [1912, 47, 2318]\n",
      "568 [318, 3468, 898]\n",
      "569 [1217, 4226, 1172]\n",
      "570 [750, 1217, 1104]\n",
      "571 [2959, 2571, 2324]\n",
      "572 [7361, 951, 1213]\n",
      "573 [1208, 922, 1204]\n",
      "574 [4993, 2571, 3451]\n",
      "575 [50, 1262, 246]\n",
      "576 [260, 318, 1222]\n",
      "577 [1104, 750, 4973]\n",
      "578 [4226, 318, 1262]\n",
      "579 [296, 318, 593]\n",
      "580 [903, 1953, 4914]\n",
      "581 [1217, 1104, 58559]\n",
      "582 [4973, 2324, 142488]\n",
      "583 [318, 898, 1704]\n",
      "584 [3147, 5690, 58559]\n",
      "585 [50, 318, 1197]\n",
      "586 [356, 922, 1267]\n",
      "587 [1104, 2761, 1217]\n",
      "588 [2959, 260, 858]\n",
      "589 [1104, 3468, 2959]\n",
      "590 [2997, 3000, 1230]\n",
      "591 [926, 2924, 1387]\n",
      "592 [4226, 1217, 912]\n",
      "593 [1204, 296, 750]\n",
      "594 [1213, 1408, 3527]\n",
      "595 [2324, 1250, 318]\n",
      "596 [296, 1217, 1178]\n",
      "597 [2571, 2324, 4226]\n",
      "598 [318, 898, 3275]\n",
      "599 [1250, 1234, 1193]\n",
      "600 [50, 3037, 969]\n",
      "601 [3451, 1223, 1199]\n",
      "602 [910, 4993, 4973]\n",
      "603 [2700, 58559, 3038]\n",
      "604 [48516, 1250, 1196]\n",
      "605 [1217, 1104, 57669]\n",
      "606 [1035, 951, 608]\n",
      "607 [1228, 951, 908]\n",
      "608 [4973, 55820, 1041]\n",
      "609 [2019, 5618, 246]\n",
      "610 [2019, 1204, 1617]\n"
     ]
    }
   ],
   "source": [
    "from collections import defaultdict\n",
    "def get_top_n(predictions,n):\n",
    "    top_n=defaultdict(list)\n",
    "    for uid,iid,_,est,_ in predictions:\n",
    "        top_n[uid].append((iid,est))\n",
    "    for uid,user_ratings in top_n.items():\n",
    "        user_ratings.sort(key=lambda x:x[1],reverse =True)\n",
    "        top_n[uid]=user_ratings[:n]\n",
    "    return top_n\n",
    "    pass\n",
    "top_n=get_top_n(predictions,n=3)\n",
    "for uid,user_ratings in top_n.items():\n",
    "    print(uid,[iid for (iid,rating) in user_ratings])"
   ]
  },
  {
   "cell_type": "markdown",
   "metadata": {},
   "source": [
    "Thus we generated the top 3 movies we should recommend users based on similar interests also known as Collaborative filtering."
   ]
  },
  {
   "cell_type": "markdown",
   "metadata": {},
   "source": [
    "The above predictions have userid as its first column and a list of 3 movie ids which should be be recommended to that user."
   ]
  }
 ],
 "metadata": {
  "kernelspec": {
   "display_name": "Python 3",
   "language": "python",
   "name": "python3"
  },
  "language_info": {
   "codemirror_mode": {
    "name": "ipython",
    "version": 3
   },
   "file_extension": ".py",
   "mimetype": "text/x-python",
   "name": "python",
   "nbconvert_exporter": "python",
   "pygments_lexer": "ipython3",
   "version": "3.7.6"
  }
 },
 "nbformat": 4,
 "nbformat_minor": 4
}
